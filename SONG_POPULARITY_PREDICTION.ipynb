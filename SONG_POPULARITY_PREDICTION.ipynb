{
  "nbformat": 4,
  "nbformat_minor": 0,
  "metadata": {
    "colab": {
      "provenance": []
    },
    "kernelspec": {
      "name": "python3",
      "display_name": "Python 3"
    },
    "language_info": {
      "name": "python"
    }
  },
  "cells": [
    {
      "cell_type": "markdown",
      "source": [
        "# **MUSIC ( SONG ) POPULATORY PREDICTION MODEL**"
      ],
      "metadata": {
        "id": "hrIGY9nNWGn3"
      }
    },
    {
      "cell_type": "markdown",
      "source": [
        "# **`Description of the project`:**\n",
        "The \"Song Popularity Prediction Model\" project aims to predict how popular a song will be. By analyzing various factors like artist, genre, BPM, etc. the model can help identify which songs are likely to become hits and which ones may not be as popular. This project can be useful for musicians, record labels, and music platforms to understand audience preferences and make informed decisions about promoting and recommending songs."
      ],
      "metadata": {
        "id": "EefJEOG5XXp1"
      }
    },
    {
      "cell_type": "code",
      "execution_count": 1,
      "metadata": {
        "id": "uyGKD3repWuq"
      },
      "outputs": [],
      "source": [
        "import numpy as np\n",
        "import pandas as pd\n",
        "import matplotlib.pyplot as plt\n",
        "import seaborn as sns\n",
        "\n",
        "df=pd.read_csv('song_data.csv')"
      ]
    },
    {
      "cell_type": "code",
      "source": [
        "df.head()\n"
      ],
      "metadata": {
        "colab": {
          "base_uri": "https://localhost:8080/",
          "height": 267
        },
        "id": "G0dC6trkqZiB",
        "outputId": "5ef65ff1-b824-4352-8269-207283687a2e"
      },
      "execution_count": 2,
      "outputs": [
        {
          "output_type": "execute_result",
          "data": {
            "text/plain": [
              "                        title  popularity  duration  acousticness  \\\n",
              "0  Boulevard of Broken Dreams          73    262333      0.005520   \n",
              "1                  In The End          66    216933      0.010300   \n",
              "2           Seven Nation Army          76    231733      0.008170   \n",
              "3                  By The Way          74    216933      0.026400   \n",
              "4           How You Remind Me          56    223826      0.000954   \n",
              "\n",
              "   danceability  energy  key  liveness  loudness  speechiness    tempo  \\\n",
              "0         0.496   0.682    8    0.0589    -4.095       0.0294  167.060   \n",
              "1         0.542   0.853    3    0.1080    -6.407       0.0498  105.256   \n",
              "2         0.737   0.463    0    0.2550    -7.828       0.0792  123.881   \n",
              "3         0.451   0.970    0    0.1020    -4.938       0.1070  122.444   \n",
              "4         0.447   0.766   10    0.1130    -5.065       0.0313  172.011   \n",
              "\n",
              "   time_signature  valence  \n",
              "0               4    0.474  \n",
              "1               4    0.370  \n",
              "2               4    0.324  \n",
              "3               4    0.198  \n",
              "4               4    0.574  "
            ],
            "text/html": [
              "\n",
              "\n",
              "  <div id=\"df-0c06bc40-fb8b-42a4-b0cd-d035d2c05f1d\">\n",
              "    <div class=\"colab-df-container\">\n",
              "      <div>\n",
              "<style scoped>\n",
              "    .dataframe tbody tr th:only-of-type {\n",
              "        vertical-align: middle;\n",
              "    }\n",
              "\n",
              "    .dataframe tbody tr th {\n",
              "        vertical-align: top;\n",
              "    }\n",
              "\n",
              "    .dataframe thead th {\n",
              "        text-align: right;\n",
              "    }\n",
              "</style>\n",
              "<table border=\"1\" class=\"dataframe\">\n",
              "  <thead>\n",
              "    <tr style=\"text-align: right;\">\n",
              "      <th></th>\n",
              "      <th>title</th>\n",
              "      <th>popularity</th>\n",
              "      <th>duration</th>\n",
              "      <th>acousticness</th>\n",
              "      <th>danceability</th>\n",
              "      <th>energy</th>\n",
              "      <th>key</th>\n",
              "      <th>liveness</th>\n",
              "      <th>loudness</th>\n",
              "      <th>speechiness</th>\n",
              "      <th>tempo</th>\n",
              "      <th>time_signature</th>\n",
              "      <th>valence</th>\n",
              "    </tr>\n",
              "  </thead>\n",
              "  <tbody>\n",
              "    <tr>\n",
              "      <th>0</th>\n",
              "      <td>Boulevard of Broken Dreams</td>\n",
              "      <td>73</td>\n",
              "      <td>262333</td>\n",
              "      <td>0.005520</td>\n",
              "      <td>0.496</td>\n",
              "      <td>0.682</td>\n",
              "      <td>8</td>\n",
              "      <td>0.0589</td>\n",
              "      <td>-4.095</td>\n",
              "      <td>0.0294</td>\n",
              "      <td>167.060</td>\n",
              "      <td>4</td>\n",
              "      <td>0.474</td>\n",
              "    </tr>\n",
              "    <tr>\n",
              "      <th>1</th>\n",
              "      <td>In The End</td>\n",
              "      <td>66</td>\n",
              "      <td>216933</td>\n",
              "      <td>0.010300</td>\n",
              "      <td>0.542</td>\n",
              "      <td>0.853</td>\n",
              "      <td>3</td>\n",
              "      <td>0.1080</td>\n",
              "      <td>-6.407</td>\n",
              "      <td>0.0498</td>\n",
              "      <td>105.256</td>\n",
              "      <td>4</td>\n",
              "      <td>0.370</td>\n",
              "    </tr>\n",
              "    <tr>\n",
              "      <th>2</th>\n",
              "      <td>Seven Nation Army</td>\n",
              "      <td>76</td>\n",
              "      <td>231733</td>\n",
              "      <td>0.008170</td>\n",
              "      <td>0.737</td>\n",
              "      <td>0.463</td>\n",
              "      <td>0</td>\n",
              "      <td>0.2550</td>\n",
              "      <td>-7.828</td>\n",
              "      <td>0.0792</td>\n",
              "      <td>123.881</td>\n",
              "      <td>4</td>\n",
              "      <td>0.324</td>\n",
              "    </tr>\n",
              "    <tr>\n",
              "      <th>3</th>\n",
              "      <td>By The Way</td>\n",
              "      <td>74</td>\n",
              "      <td>216933</td>\n",
              "      <td>0.026400</td>\n",
              "      <td>0.451</td>\n",
              "      <td>0.970</td>\n",
              "      <td>0</td>\n",
              "      <td>0.1020</td>\n",
              "      <td>-4.938</td>\n",
              "      <td>0.1070</td>\n",
              "      <td>122.444</td>\n",
              "      <td>4</td>\n",
              "      <td>0.198</td>\n",
              "    </tr>\n",
              "    <tr>\n",
              "      <th>4</th>\n",
              "      <td>How You Remind Me</td>\n",
              "      <td>56</td>\n",
              "      <td>223826</td>\n",
              "      <td>0.000954</td>\n",
              "      <td>0.447</td>\n",
              "      <td>0.766</td>\n",
              "      <td>10</td>\n",
              "      <td>0.1130</td>\n",
              "      <td>-5.065</td>\n",
              "      <td>0.0313</td>\n",
              "      <td>172.011</td>\n",
              "      <td>4</td>\n",
              "      <td>0.574</td>\n",
              "    </tr>\n",
              "  </tbody>\n",
              "</table>\n",
              "</div>\n",
              "      <button class=\"colab-df-convert\" onclick=\"convertToInteractive('df-0c06bc40-fb8b-42a4-b0cd-d035d2c05f1d')\"\n",
              "              title=\"Convert this dataframe to an interactive table.\"\n",
              "              style=\"display:none;\">\n",
              "\n",
              "  <svg xmlns=\"http://www.w3.org/2000/svg\" height=\"24px\"viewBox=\"0 0 24 24\"\n",
              "       width=\"24px\">\n",
              "    <path d=\"M0 0h24v24H0V0z\" fill=\"none\"/>\n",
              "    <path d=\"M18.56 5.44l.94 2.06.94-2.06 2.06-.94-2.06-.94-.94-2.06-.94 2.06-2.06.94zm-11 1L8.5 8.5l.94-2.06 2.06-.94-2.06-.94L8.5 2.5l-.94 2.06-2.06.94zm10 10l.94 2.06.94-2.06 2.06-.94-2.06-.94-.94-2.06-.94 2.06-2.06.94z\"/><path d=\"M17.41 7.96l-1.37-1.37c-.4-.4-.92-.59-1.43-.59-.52 0-1.04.2-1.43.59L10.3 9.45l-7.72 7.72c-.78.78-.78 2.05 0 2.83L4 21.41c.39.39.9.59 1.41.59.51 0 1.02-.2 1.41-.59l7.78-7.78 2.81-2.81c.8-.78.8-2.07 0-2.86zM5.41 20L4 18.59l7.72-7.72 1.47 1.35L5.41 20z\"/>\n",
              "  </svg>\n",
              "      </button>\n",
              "\n",
              "\n",
              "\n",
              "    <div id=\"df-5199e2c7-1570-4cbe-aa52-416a98e9ee7c\">\n",
              "      <button class=\"colab-df-quickchart\" onclick=\"quickchart('df-5199e2c7-1570-4cbe-aa52-416a98e9ee7c')\"\n",
              "              title=\"Suggest charts.\"\n",
              "              style=\"display:none;\">\n",
              "\n",
              "<svg xmlns=\"http://www.w3.org/2000/svg\" height=\"24px\"viewBox=\"0 0 24 24\"\n",
              "     width=\"24px\">\n",
              "    <g>\n",
              "        <path d=\"M19 3H5c-1.1 0-2 .9-2 2v14c0 1.1.9 2 2 2h14c1.1 0 2-.9 2-2V5c0-1.1-.9-2-2-2zM9 17H7v-7h2v7zm4 0h-2V7h2v10zm4 0h-2v-4h2v4z\"/>\n",
              "    </g>\n",
              "</svg>\n",
              "      </button>\n",
              "    </div>\n",
              "\n",
              "<style>\n",
              "  .colab-df-quickchart {\n",
              "    background-color: #E8F0FE;\n",
              "    border: none;\n",
              "    border-radius: 50%;\n",
              "    cursor: pointer;\n",
              "    display: none;\n",
              "    fill: #1967D2;\n",
              "    height: 32px;\n",
              "    padding: 0 0 0 0;\n",
              "    width: 32px;\n",
              "  }\n",
              "\n",
              "  .colab-df-quickchart:hover {\n",
              "    background-color: #E2EBFA;\n",
              "    box-shadow: 0px 1px 2px rgba(60, 64, 67, 0.3), 0px 1px 3px 1px rgba(60, 64, 67, 0.15);\n",
              "    fill: #174EA6;\n",
              "  }\n",
              "\n",
              "  [theme=dark] .colab-df-quickchart {\n",
              "    background-color: #3B4455;\n",
              "    fill: #D2E3FC;\n",
              "  }\n",
              "\n",
              "  [theme=dark] .colab-df-quickchart:hover {\n",
              "    background-color: #434B5C;\n",
              "    box-shadow: 0px 1px 3px 1px rgba(0, 0, 0, 0.15);\n",
              "    filter: drop-shadow(0px 1px 2px rgba(0, 0, 0, 0.3));\n",
              "    fill: #FFFFFF;\n",
              "  }\n",
              "</style>\n",
              "\n",
              "    <script>\n",
              "      async function quickchart(key) {\n",
              "        const containerElement = document.querySelector('#' + key);\n",
              "        const charts = await google.colab.kernel.invokeFunction(\n",
              "            'suggestCharts', [key], {});\n",
              "      }\n",
              "    </script>\n",
              "\n",
              "      <script>\n",
              "\n",
              "function displayQuickchartButton(domScope) {\n",
              "  let quickchartButtonEl =\n",
              "    domScope.querySelector('#df-5199e2c7-1570-4cbe-aa52-416a98e9ee7c button.colab-df-quickchart');\n",
              "  quickchartButtonEl.style.display =\n",
              "    google.colab.kernel.accessAllowed ? 'block' : 'none';\n",
              "}\n",
              "\n",
              "        displayQuickchartButton(document);\n",
              "      </script>\n",
              "      <style>\n",
              "    .colab-df-container {\n",
              "      display:flex;\n",
              "      flex-wrap:wrap;\n",
              "      gap: 12px;\n",
              "    }\n",
              "\n",
              "    .colab-df-convert {\n",
              "      background-color: #E8F0FE;\n",
              "      border: none;\n",
              "      border-radius: 50%;\n",
              "      cursor: pointer;\n",
              "      display: none;\n",
              "      fill: #1967D2;\n",
              "      height: 32px;\n",
              "      padding: 0 0 0 0;\n",
              "      width: 32px;\n",
              "    }\n",
              "\n",
              "    .colab-df-convert:hover {\n",
              "      background-color: #E2EBFA;\n",
              "      box-shadow: 0px 1px 2px rgba(60, 64, 67, 0.3), 0px 1px 3px 1px rgba(60, 64, 67, 0.15);\n",
              "      fill: #174EA6;\n",
              "    }\n",
              "\n",
              "    [theme=dark] .colab-df-convert {\n",
              "      background-color: #3B4455;\n",
              "      fill: #D2E3FC;\n",
              "    }\n",
              "\n",
              "    [theme=dark] .colab-df-convert:hover {\n",
              "      background-color: #434B5C;\n",
              "      box-shadow: 0px 1px 3px 1px rgba(0, 0, 0, 0.15);\n",
              "      filter: drop-shadow(0px 1px 2px rgba(0, 0, 0, 0.3));\n",
              "      fill: #FFFFFF;\n",
              "    }\n",
              "  </style>\n",
              "\n",
              "      <script>\n",
              "        const buttonEl =\n",
              "          document.querySelector('#df-0c06bc40-fb8b-42a4-b0cd-d035d2c05f1d button.colab-df-convert');\n",
              "        buttonEl.style.display =\n",
              "          google.colab.kernel.accessAllowed ? 'block' : 'none';\n",
              "\n",
              "        async function convertToInteractive(key) {\n",
              "          const element = document.querySelector('#df-0c06bc40-fb8b-42a4-b0cd-d035d2c05f1d');\n",
              "          const dataTable =\n",
              "            await google.colab.kernel.invokeFunction('convertToInteractive',\n",
              "                                                     [key], {});\n",
              "          if (!dataTable) return;\n",
              "\n",
              "          const docLinkHtml = 'Like what you see? Visit the ' +\n",
              "            '<a target=\"_blank\" href=https://colab.research.google.com/notebooks/data_table.ipynb>data table notebook</a>'\n",
              "            + ' to learn more about interactive tables.';\n",
              "          element.innerHTML = '';\n",
              "          dataTable['output_type'] = 'display_data';\n",
              "          await google.colab.output.renderOutput(dataTable, element);\n",
              "          const docLink = document.createElement('div');\n",
              "          docLink.innerHTML = docLinkHtml;\n",
              "          element.appendChild(docLink);\n",
              "        }\n",
              "      </script>\n",
              "    </div>\n",
              "  </div>\n"
            ]
          },
          "metadata": {},
          "execution_count": 2
        }
      ]
    },
    {
      "cell_type": "markdown",
      "source": [
        "# **`Explaination of Columns`:**\n",
        "\n",
        "column 1 - **Title** : This column consist of title (name) of the song by which it is known or will be known.\n",
        "\n",
        "Column 2 - **Popularity** : This column contains measure of popularity,which basically tells us how much popular the song  is.\n",
        "\n",
        "column 3 - **Duration** : This column consist of the Duration of the song. Duration is basically the length of the song and it is measured in mili-seconds.\n",
        "\n",
        "column 4 - **Acousticness** : This column consist of the measure of acousticness .Acousticness means how acoustic the song is.\n",
        "\n",
        "column 5 -**Danceability** : This column consist of the measure that determines the ease with which a person could dance to a song over the course of the whole song.\n",
        "\n",
        "column 6 - **Energy**: This column consist of the measure of how much energetic the song is.\n",
        "\n",
        "column 7 - **Key** :This column contains the key of the song. It determines the set of notes and chords that are used most prominently in the song.\n",
        "There are basically 12 keys in music, i.e [ C,C#,D,D#,E,F,F#,G,G#,A,A#,B]\n",
        "here,\n",
        "C=0 , C#=1, ....., B=11\n",
        "\n",
        "\n",
        "column 8- **Liveness** : This column consist of measure of probablity of how much the song was recorded with the live instruments.Higher liveness values represent an increased probability that the track was performed live.\n",
        "\n",
        "column 9- **Loudness**: This column consist of the measure of loudness of the song. its is basically measured in decibels (db). Basically loudness is a perception that determines how much sound pressure a particular song is emitting at a given time.\n",
        "\n",
        "Column 10 - **speechiness** : This column consist of speechiness of the song.\n",
        "Speechness is basically the presence of spoken words in a track.\n",
        "\n",
        "column11 - **Tempo** : This column consist of  tempo of the song.\n",
        "Tempo is basically the speed of the song  which is  measured in 'bpm'( beats per minute).\n",
        "\n",
        "column 12 - **time_signature** :This column contain time signature of the song.\n",
        "In music, a time signature is a notation that indicates the rhythm and structure of a musical piece.\n",
        "For example, in a common time signature like 4/4:\n",
        "The top number \"4\" means there are four beats in each measure.\n",
        "The bottom number \"4\" indicates that a quarter note (1/4 of a whole note) receives one beat.\n",
        "\n",
        "\n",
        "column 13 - **Valence** : This column  consist of valence of the song. Basically valence describes the musical positiveness conveyed by a track.\n",
        "Tracks with high valence sound more positive (e.g. happy, cheerful, euphoric), while tracks with low valence sound more negative (e.g. sad, depressed, angry).\n",
        "\n",
        "\n",
        "\n",
        "\n",
        "\n",
        "\n",
        "\n",
        "\n",
        "\n",
        "\n",
        "\n",
        "\n",
        "\n",
        "\n",
        "\n",
        "\n",
        "\n",
        "\n",
        "\n",
        "\n",
        "\n",
        "\n",
        "\n",
        "\n",
        "\n",
        "\n",
        "\n",
        "\n",
        "\n"
      ],
      "metadata": {
        "id": "KLY2Mf33W_4E"
      }
    },
    {
      "cell_type": "code",
      "source": [
        "df.tail()"
      ],
      "metadata": {
        "colab": {
          "base_uri": "https://localhost:8080/",
          "height": 267
        },
        "id": "utqrCIUVZLrP",
        "outputId": "9d6eb3c9-25c2-4f5d-e9e5-38753254085b"
      },
      "execution_count": 3,
      "outputs": [
        {
          "output_type": "execute_result",
          "data": {
            "text/plain": [
              "                        title  popularity  duration  acousticness  \\\n",
              "18830          Let It Breathe          60    159645         0.893   \n",
              "18831                 Answers          60    205666         0.765   \n",
              "18832  Sudden Love (Acoustic)          23    182211         0.847   \n",
              "18833       Gentle on My Mind          55    352280         0.945   \n",
              "18834                Up to Me          60    193533         0.911   \n",
              "\n",
              "       danceability  energy  key  liveness  loudness  speechiness    tempo  \\\n",
              "18830         0.500   0.151   11     0.111   -16.107       0.0348  113.969   \n",
              "18831         0.495   0.161   11     0.105   -14.078       0.0301   94.286   \n",
              "18832         0.719   0.325    0     0.125   -12.222       0.0355  130.534   \n",
              "18833         0.488   0.326    3     0.119   -12.020       0.0328  106.063   \n",
              "18834         0.640   0.381    4     0.104   -11.790       0.0302   91.490   \n",
              "\n",
              "       time_signature  valence  \n",
              "18830               4    0.300  \n",
              "18831               4    0.265  \n",
              "18832               4    0.286  \n",
              "18833               4    0.323  \n",
              "18834               4    0.581  "
            ],
            "text/html": [
              "\n",
              "\n",
              "  <div id=\"df-6d847b7a-a87b-4772-a232-ab07cad4ce4a\">\n",
              "    <div class=\"colab-df-container\">\n",
              "      <div>\n",
              "<style scoped>\n",
              "    .dataframe tbody tr th:only-of-type {\n",
              "        vertical-align: middle;\n",
              "    }\n",
              "\n",
              "    .dataframe tbody tr th {\n",
              "        vertical-align: top;\n",
              "    }\n",
              "\n",
              "    .dataframe thead th {\n",
              "        text-align: right;\n",
              "    }\n",
              "</style>\n",
              "<table border=\"1\" class=\"dataframe\">\n",
              "  <thead>\n",
              "    <tr style=\"text-align: right;\">\n",
              "      <th></th>\n",
              "      <th>title</th>\n",
              "      <th>popularity</th>\n",
              "      <th>duration</th>\n",
              "      <th>acousticness</th>\n",
              "      <th>danceability</th>\n",
              "      <th>energy</th>\n",
              "      <th>key</th>\n",
              "      <th>liveness</th>\n",
              "      <th>loudness</th>\n",
              "      <th>speechiness</th>\n",
              "      <th>tempo</th>\n",
              "      <th>time_signature</th>\n",
              "      <th>valence</th>\n",
              "    </tr>\n",
              "  </thead>\n",
              "  <tbody>\n",
              "    <tr>\n",
              "      <th>18830</th>\n",
              "      <td>Let It Breathe</td>\n",
              "      <td>60</td>\n",
              "      <td>159645</td>\n",
              "      <td>0.893</td>\n",
              "      <td>0.500</td>\n",
              "      <td>0.151</td>\n",
              "      <td>11</td>\n",
              "      <td>0.111</td>\n",
              "      <td>-16.107</td>\n",
              "      <td>0.0348</td>\n",
              "      <td>113.969</td>\n",
              "      <td>4</td>\n",
              "      <td>0.300</td>\n",
              "    </tr>\n",
              "    <tr>\n",
              "      <th>18831</th>\n",
              "      <td>Answers</td>\n",
              "      <td>60</td>\n",
              "      <td>205666</td>\n",
              "      <td>0.765</td>\n",
              "      <td>0.495</td>\n",
              "      <td>0.161</td>\n",
              "      <td>11</td>\n",
              "      <td>0.105</td>\n",
              "      <td>-14.078</td>\n",
              "      <td>0.0301</td>\n",
              "      <td>94.286</td>\n",
              "      <td>4</td>\n",
              "      <td>0.265</td>\n",
              "    </tr>\n",
              "    <tr>\n",
              "      <th>18832</th>\n",
              "      <td>Sudden Love (Acoustic)</td>\n",
              "      <td>23</td>\n",
              "      <td>182211</td>\n",
              "      <td>0.847</td>\n",
              "      <td>0.719</td>\n",
              "      <td>0.325</td>\n",
              "      <td>0</td>\n",
              "      <td>0.125</td>\n",
              "      <td>-12.222</td>\n",
              "      <td>0.0355</td>\n",
              "      <td>130.534</td>\n",
              "      <td>4</td>\n",
              "      <td>0.286</td>\n",
              "    </tr>\n",
              "    <tr>\n",
              "      <th>18833</th>\n",
              "      <td>Gentle on My Mind</td>\n",
              "      <td>55</td>\n",
              "      <td>352280</td>\n",
              "      <td>0.945</td>\n",
              "      <td>0.488</td>\n",
              "      <td>0.326</td>\n",
              "      <td>3</td>\n",
              "      <td>0.119</td>\n",
              "      <td>-12.020</td>\n",
              "      <td>0.0328</td>\n",
              "      <td>106.063</td>\n",
              "      <td>4</td>\n",
              "      <td>0.323</td>\n",
              "    </tr>\n",
              "    <tr>\n",
              "      <th>18834</th>\n",
              "      <td>Up to Me</td>\n",
              "      <td>60</td>\n",
              "      <td>193533</td>\n",
              "      <td>0.911</td>\n",
              "      <td>0.640</td>\n",
              "      <td>0.381</td>\n",
              "      <td>4</td>\n",
              "      <td>0.104</td>\n",
              "      <td>-11.790</td>\n",
              "      <td>0.0302</td>\n",
              "      <td>91.490</td>\n",
              "      <td>4</td>\n",
              "      <td>0.581</td>\n",
              "    </tr>\n",
              "  </tbody>\n",
              "</table>\n",
              "</div>\n",
              "      <button class=\"colab-df-convert\" onclick=\"convertToInteractive('df-6d847b7a-a87b-4772-a232-ab07cad4ce4a')\"\n",
              "              title=\"Convert this dataframe to an interactive table.\"\n",
              "              style=\"display:none;\">\n",
              "\n",
              "  <svg xmlns=\"http://www.w3.org/2000/svg\" height=\"24px\"viewBox=\"0 0 24 24\"\n",
              "       width=\"24px\">\n",
              "    <path d=\"M0 0h24v24H0V0z\" fill=\"none\"/>\n",
              "    <path d=\"M18.56 5.44l.94 2.06.94-2.06 2.06-.94-2.06-.94-.94-2.06-.94 2.06-2.06.94zm-11 1L8.5 8.5l.94-2.06 2.06-.94-2.06-.94L8.5 2.5l-.94 2.06-2.06.94zm10 10l.94 2.06.94-2.06 2.06-.94-2.06-.94-.94-2.06-.94 2.06-2.06.94z\"/><path d=\"M17.41 7.96l-1.37-1.37c-.4-.4-.92-.59-1.43-.59-.52 0-1.04.2-1.43.59L10.3 9.45l-7.72 7.72c-.78.78-.78 2.05 0 2.83L4 21.41c.39.39.9.59 1.41.59.51 0 1.02-.2 1.41-.59l7.78-7.78 2.81-2.81c.8-.78.8-2.07 0-2.86zM5.41 20L4 18.59l7.72-7.72 1.47 1.35L5.41 20z\"/>\n",
              "  </svg>\n",
              "      </button>\n",
              "\n",
              "\n",
              "\n",
              "    <div id=\"df-890fb0c4-5e36-43c7-b0d1-62a07b46e1cd\">\n",
              "      <button class=\"colab-df-quickchart\" onclick=\"quickchart('df-890fb0c4-5e36-43c7-b0d1-62a07b46e1cd')\"\n",
              "              title=\"Suggest charts.\"\n",
              "              style=\"display:none;\">\n",
              "\n",
              "<svg xmlns=\"http://www.w3.org/2000/svg\" height=\"24px\"viewBox=\"0 0 24 24\"\n",
              "     width=\"24px\">\n",
              "    <g>\n",
              "        <path d=\"M19 3H5c-1.1 0-2 .9-2 2v14c0 1.1.9 2 2 2h14c1.1 0 2-.9 2-2V5c0-1.1-.9-2-2-2zM9 17H7v-7h2v7zm4 0h-2V7h2v10zm4 0h-2v-4h2v4z\"/>\n",
              "    </g>\n",
              "</svg>\n",
              "      </button>\n",
              "    </div>\n",
              "\n",
              "<style>\n",
              "  .colab-df-quickchart {\n",
              "    background-color: #E8F0FE;\n",
              "    border: none;\n",
              "    border-radius: 50%;\n",
              "    cursor: pointer;\n",
              "    display: none;\n",
              "    fill: #1967D2;\n",
              "    height: 32px;\n",
              "    padding: 0 0 0 0;\n",
              "    width: 32px;\n",
              "  }\n",
              "\n",
              "  .colab-df-quickchart:hover {\n",
              "    background-color: #E2EBFA;\n",
              "    box-shadow: 0px 1px 2px rgba(60, 64, 67, 0.3), 0px 1px 3px 1px rgba(60, 64, 67, 0.15);\n",
              "    fill: #174EA6;\n",
              "  }\n",
              "\n",
              "  [theme=dark] .colab-df-quickchart {\n",
              "    background-color: #3B4455;\n",
              "    fill: #D2E3FC;\n",
              "  }\n",
              "\n",
              "  [theme=dark] .colab-df-quickchart:hover {\n",
              "    background-color: #434B5C;\n",
              "    box-shadow: 0px 1px 3px 1px rgba(0, 0, 0, 0.15);\n",
              "    filter: drop-shadow(0px 1px 2px rgba(0, 0, 0, 0.3));\n",
              "    fill: #FFFFFF;\n",
              "  }\n",
              "</style>\n",
              "\n",
              "    <script>\n",
              "      async function quickchart(key) {\n",
              "        const containerElement = document.querySelector('#' + key);\n",
              "        const charts = await google.colab.kernel.invokeFunction(\n",
              "            'suggestCharts', [key], {});\n",
              "      }\n",
              "    </script>\n",
              "\n",
              "      <script>\n",
              "\n",
              "function displayQuickchartButton(domScope) {\n",
              "  let quickchartButtonEl =\n",
              "    domScope.querySelector('#df-890fb0c4-5e36-43c7-b0d1-62a07b46e1cd button.colab-df-quickchart');\n",
              "  quickchartButtonEl.style.display =\n",
              "    google.colab.kernel.accessAllowed ? 'block' : 'none';\n",
              "}\n",
              "\n",
              "        displayQuickchartButton(document);\n",
              "      </script>\n",
              "      <style>\n",
              "    .colab-df-container {\n",
              "      display:flex;\n",
              "      flex-wrap:wrap;\n",
              "      gap: 12px;\n",
              "    }\n",
              "\n",
              "    .colab-df-convert {\n",
              "      background-color: #E8F0FE;\n",
              "      border: none;\n",
              "      border-radius: 50%;\n",
              "      cursor: pointer;\n",
              "      display: none;\n",
              "      fill: #1967D2;\n",
              "      height: 32px;\n",
              "      padding: 0 0 0 0;\n",
              "      width: 32px;\n",
              "    }\n",
              "\n",
              "    .colab-df-convert:hover {\n",
              "      background-color: #E2EBFA;\n",
              "      box-shadow: 0px 1px 2px rgba(60, 64, 67, 0.3), 0px 1px 3px 1px rgba(60, 64, 67, 0.15);\n",
              "      fill: #174EA6;\n",
              "    }\n",
              "\n",
              "    [theme=dark] .colab-df-convert {\n",
              "      background-color: #3B4455;\n",
              "      fill: #D2E3FC;\n",
              "    }\n",
              "\n",
              "    [theme=dark] .colab-df-convert:hover {\n",
              "      background-color: #434B5C;\n",
              "      box-shadow: 0px 1px 3px 1px rgba(0, 0, 0, 0.15);\n",
              "      filter: drop-shadow(0px 1px 2px rgba(0, 0, 0, 0.3));\n",
              "      fill: #FFFFFF;\n",
              "    }\n",
              "  </style>\n",
              "\n",
              "      <script>\n",
              "        const buttonEl =\n",
              "          document.querySelector('#df-6d847b7a-a87b-4772-a232-ab07cad4ce4a button.colab-df-convert');\n",
              "        buttonEl.style.display =\n",
              "          google.colab.kernel.accessAllowed ? 'block' : 'none';\n",
              "\n",
              "        async function convertToInteractive(key) {\n",
              "          const element = document.querySelector('#df-6d847b7a-a87b-4772-a232-ab07cad4ce4a');\n",
              "          const dataTable =\n",
              "            await google.colab.kernel.invokeFunction('convertToInteractive',\n",
              "                                                     [key], {});\n",
              "          if (!dataTable) return;\n",
              "\n",
              "          const docLinkHtml = 'Like what you see? Visit the ' +\n",
              "            '<a target=\"_blank\" href=https://colab.research.google.com/notebooks/data_table.ipynb>data table notebook</a>'\n",
              "            + ' to learn more about interactive tables.';\n",
              "          element.innerHTML = '';\n",
              "          dataTable['output_type'] = 'display_data';\n",
              "          await google.colab.output.renderOutput(dataTable, element);\n",
              "          const docLink = document.createElement('div');\n",
              "          docLink.innerHTML = docLinkHtml;\n",
              "          element.appendChild(docLink);\n",
              "        }\n",
              "      </script>\n",
              "    </div>\n",
              "  </div>\n"
            ]
          },
          "metadata": {},
          "execution_count": 3
        }
      ]
    },
    {
      "cell_type": "markdown",
      "source": [
        "# **`Cleaning data :`**"
      ],
      "metadata": {
        "id": "dp0AF1mJMhea"
      }
    },
    {
      "cell_type": "code",
      "source": [
        "df.info()"
      ],
      "metadata": {
        "colab": {
          "base_uri": "https://localhost:8080/"
        },
        "id": "6JeVO7UkC3jc",
        "outputId": "a37f5b80-6808-4de6-f0a0-6f9be85a50a8"
      },
      "execution_count": 4,
      "outputs": [
        {
          "output_type": "stream",
          "name": "stdout",
          "text": [
            "<class 'pandas.core.frame.DataFrame'>\n",
            "RangeIndex: 18835 entries, 0 to 18834\n",
            "Data columns (total 13 columns):\n",
            " #   Column          Non-Null Count  Dtype  \n",
            "---  ------          --------------  -----  \n",
            " 0   title           18835 non-null  object \n",
            " 1   popularity      18835 non-null  int64  \n",
            " 2   duration        18835 non-null  int64  \n",
            " 3   acousticness    18835 non-null  float64\n",
            " 4   danceability    18835 non-null  float64\n",
            " 5   energy          18835 non-null  float64\n",
            " 6   key             18835 non-null  int64  \n",
            " 7   liveness        18835 non-null  float64\n",
            " 8   loudness        18835 non-null  float64\n",
            " 9   speechiness     18835 non-null  float64\n",
            " 10  tempo           18835 non-null  float64\n",
            " 11  time_signature  18835 non-null  int64  \n",
            " 12  valence         18835 non-null  float64\n",
            "dtypes: float64(8), int64(4), object(1)\n",
            "memory usage: 1.9+ MB\n"
          ]
        }
      ]
    },
    {
      "cell_type": "code",
      "source": [
        "df.isnull().sum()"
      ],
      "metadata": {
        "colab": {
          "base_uri": "https://localhost:8080/"
        },
        "id": "agMb-zu1GBJy",
        "outputId": "507697ad-e085-44dc-f8c8-a691fdd45919"
      },
      "execution_count": 5,
      "outputs": [
        {
          "output_type": "execute_result",
          "data": {
            "text/plain": [
              "title             0\n",
              "popularity        0\n",
              "duration          0\n",
              "acousticness      0\n",
              "danceability      0\n",
              "energy            0\n",
              "key               0\n",
              "liveness          0\n",
              "loudness          0\n",
              "speechiness       0\n",
              "tempo             0\n",
              "time_signature    0\n",
              "valence           0\n",
              "dtype: int64"
            ]
          },
          "metadata": {},
          "execution_count": 5
        }
      ]
    },
    {
      "cell_type": "markdown",
      "source": [
        "Since the data do not have any null values. We do not need to clean the data, the data is already clean."
      ],
      "metadata": {
        "id": "XNFOiU23GNZS"
      }
    },
    {
      "cell_type": "markdown",
      "source": [
        "# **`Dropping Uneccesary Columns :`**\n",
        "\n",
        "We are Dropping here 'title' column ,since the title of the song do not contribute in the popularity of the song ,i.e our target of the model.\n",
        "Therefore it will not affect our analysis."
      ],
      "metadata": {
        "id": "pUrJ428HC3AK"
      }
    },
    {
      "cell_type": "code",
      "source": [
        "df=df.drop([\"title\"],axis=1)\n",
        "df.head()\n"
      ],
      "metadata": {
        "colab": {
          "base_uri": "https://localhost:8080/",
          "height": 206
        },
        "id": "lu_NKbUZDFip",
        "outputId": "00521a65-a90c-43b3-9c48-fbf8812c7e8a"
      },
      "execution_count": 6,
      "outputs": [
        {
          "output_type": "execute_result",
          "data": {
            "text/plain": [
              "   popularity  duration  acousticness  danceability  energy  key  liveness  \\\n",
              "0          73    262333      0.005520         0.496   0.682    8    0.0589   \n",
              "1          66    216933      0.010300         0.542   0.853    3    0.1080   \n",
              "2          76    231733      0.008170         0.737   0.463    0    0.2550   \n",
              "3          74    216933      0.026400         0.451   0.970    0    0.1020   \n",
              "4          56    223826      0.000954         0.447   0.766   10    0.1130   \n",
              "\n",
              "   loudness  speechiness    tempo  time_signature  valence  \n",
              "0    -4.095       0.0294  167.060               4    0.474  \n",
              "1    -6.407       0.0498  105.256               4    0.370  \n",
              "2    -7.828       0.0792  123.881               4    0.324  \n",
              "3    -4.938       0.1070  122.444               4    0.198  \n",
              "4    -5.065       0.0313  172.011               4    0.574  "
            ],
            "text/html": [
              "\n",
              "\n",
              "  <div id=\"df-20dcd15f-23a6-4b0c-8ae3-97db2e490e4a\">\n",
              "    <div class=\"colab-df-container\">\n",
              "      <div>\n",
              "<style scoped>\n",
              "    .dataframe tbody tr th:only-of-type {\n",
              "        vertical-align: middle;\n",
              "    }\n",
              "\n",
              "    .dataframe tbody tr th {\n",
              "        vertical-align: top;\n",
              "    }\n",
              "\n",
              "    .dataframe thead th {\n",
              "        text-align: right;\n",
              "    }\n",
              "</style>\n",
              "<table border=\"1\" class=\"dataframe\">\n",
              "  <thead>\n",
              "    <tr style=\"text-align: right;\">\n",
              "      <th></th>\n",
              "      <th>popularity</th>\n",
              "      <th>duration</th>\n",
              "      <th>acousticness</th>\n",
              "      <th>danceability</th>\n",
              "      <th>energy</th>\n",
              "      <th>key</th>\n",
              "      <th>liveness</th>\n",
              "      <th>loudness</th>\n",
              "      <th>speechiness</th>\n",
              "      <th>tempo</th>\n",
              "      <th>time_signature</th>\n",
              "      <th>valence</th>\n",
              "    </tr>\n",
              "  </thead>\n",
              "  <tbody>\n",
              "    <tr>\n",
              "      <th>0</th>\n",
              "      <td>73</td>\n",
              "      <td>262333</td>\n",
              "      <td>0.005520</td>\n",
              "      <td>0.496</td>\n",
              "      <td>0.682</td>\n",
              "      <td>8</td>\n",
              "      <td>0.0589</td>\n",
              "      <td>-4.095</td>\n",
              "      <td>0.0294</td>\n",
              "      <td>167.060</td>\n",
              "      <td>4</td>\n",
              "      <td>0.474</td>\n",
              "    </tr>\n",
              "    <tr>\n",
              "      <th>1</th>\n",
              "      <td>66</td>\n",
              "      <td>216933</td>\n",
              "      <td>0.010300</td>\n",
              "      <td>0.542</td>\n",
              "      <td>0.853</td>\n",
              "      <td>3</td>\n",
              "      <td>0.1080</td>\n",
              "      <td>-6.407</td>\n",
              "      <td>0.0498</td>\n",
              "      <td>105.256</td>\n",
              "      <td>4</td>\n",
              "      <td>0.370</td>\n",
              "    </tr>\n",
              "    <tr>\n",
              "      <th>2</th>\n",
              "      <td>76</td>\n",
              "      <td>231733</td>\n",
              "      <td>0.008170</td>\n",
              "      <td>0.737</td>\n",
              "      <td>0.463</td>\n",
              "      <td>0</td>\n",
              "      <td>0.2550</td>\n",
              "      <td>-7.828</td>\n",
              "      <td>0.0792</td>\n",
              "      <td>123.881</td>\n",
              "      <td>4</td>\n",
              "      <td>0.324</td>\n",
              "    </tr>\n",
              "    <tr>\n",
              "      <th>3</th>\n",
              "      <td>74</td>\n",
              "      <td>216933</td>\n",
              "      <td>0.026400</td>\n",
              "      <td>0.451</td>\n",
              "      <td>0.970</td>\n",
              "      <td>0</td>\n",
              "      <td>0.1020</td>\n",
              "      <td>-4.938</td>\n",
              "      <td>0.1070</td>\n",
              "      <td>122.444</td>\n",
              "      <td>4</td>\n",
              "      <td>0.198</td>\n",
              "    </tr>\n",
              "    <tr>\n",
              "      <th>4</th>\n",
              "      <td>56</td>\n",
              "      <td>223826</td>\n",
              "      <td>0.000954</td>\n",
              "      <td>0.447</td>\n",
              "      <td>0.766</td>\n",
              "      <td>10</td>\n",
              "      <td>0.1130</td>\n",
              "      <td>-5.065</td>\n",
              "      <td>0.0313</td>\n",
              "      <td>172.011</td>\n",
              "      <td>4</td>\n",
              "      <td>0.574</td>\n",
              "    </tr>\n",
              "  </tbody>\n",
              "</table>\n",
              "</div>\n",
              "      <button class=\"colab-df-convert\" onclick=\"convertToInteractive('df-20dcd15f-23a6-4b0c-8ae3-97db2e490e4a')\"\n",
              "              title=\"Convert this dataframe to an interactive table.\"\n",
              "              style=\"display:none;\">\n",
              "\n",
              "  <svg xmlns=\"http://www.w3.org/2000/svg\" height=\"24px\"viewBox=\"0 0 24 24\"\n",
              "       width=\"24px\">\n",
              "    <path d=\"M0 0h24v24H0V0z\" fill=\"none\"/>\n",
              "    <path d=\"M18.56 5.44l.94 2.06.94-2.06 2.06-.94-2.06-.94-.94-2.06-.94 2.06-2.06.94zm-11 1L8.5 8.5l.94-2.06 2.06-.94-2.06-.94L8.5 2.5l-.94 2.06-2.06.94zm10 10l.94 2.06.94-2.06 2.06-.94-2.06-.94-.94-2.06-.94 2.06-2.06.94z\"/><path d=\"M17.41 7.96l-1.37-1.37c-.4-.4-.92-.59-1.43-.59-.52 0-1.04.2-1.43.59L10.3 9.45l-7.72 7.72c-.78.78-.78 2.05 0 2.83L4 21.41c.39.39.9.59 1.41.59.51 0 1.02-.2 1.41-.59l7.78-7.78 2.81-2.81c.8-.78.8-2.07 0-2.86zM5.41 20L4 18.59l7.72-7.72 1.47 1.35L5.41 20z\"/>\n",
              "  </svg>\n",
              "      </button>\n",
              "\n",
              "\n",
              "\n",
              "    <div id=\"df-d50148f4-22b4-4189-97ab-5912e9abdac4\">\n",
              "      <button class=\"colab-df-quickchart\" onclick=\"quickchart('df-d50148f4-22b4-4189-97ab-5912e9abdac4')\"\n",
              "              title=\"Suggest charts.\"\n",
              "              style=\"display:none;\">\n",
              "\n",
              "<svg xmlns=\"http://www.w3.org/2000/svg\" height=\"24px\"viewBox=\"0 0 24 24\"\n",
              "     width=\"24px\">\n",
              "    <g>\n",
              "        <path d=\"M19 3H5c-1.1 0-2 .9-2 2v14c0 1.1.9 2 2 2h14c1.1 0 2-.9 2-2V5c0-1.1-.9-2-2-2zM9 17H7v-7h2v7zm4 0h-2V7h2v10zm4 0h-2v-4h2v4z\"/>\n",
              "    </g>\n",
              "</svg>\n",
              "      </button>\n",
              "    </div>\n",
              "\n",
              "<style>\n",
              "  .colab-df-quickchart {\n",
              "    background-color: #E8F0FE;\n",
              "    border: none;\n",
              "    border-radius: 50%;\n",
              "    cursor: pointer;\n",
              "    display: none;\n",
              "    fill: #1967D2;\n",
              "    height: 32px;\n",
              "    padding: 0 0 0 0;\n",
              "    width: 32px;\n",
              "  }\n",
              "\n",
              "  .colab-df-quickchart:hover {\n",
              "    background-color: #E2EBFA;\n",
              "    box-shadow: 0px 1px 2px rgba(60, 64, 67, 0.3), 0px 1px 3px 1px rgba(60, 64, 67, 0.15);\n",
              "    fill: #174EA6;\n",
              "  }\n",
              "\n",
              "  [theme=dark] .colab-df-quickchart {\n",
              "    background-color: #3B4455;\n",
              "    fill: #D2E3FC;\n",
              "  }\n",
              "\n",
              "  [theme=dark] .colab-df-quickchart:hover {\n",
              "    background-color: #434B5C;\n",
              "    box-shadow: 0px 1px 3px 1px rgba(0, 0, 0, 0.15);\n",
              "    filter: drop-shadow(0px 1px 2px rgba(0, 0, 0, 0.3));\n",
              "    fill: #FFFFFF;\n",
              "  }\n",
              "</style>\n",
              "\n",
              "    <script>\n",
              "      async function quickchart(key) {\n",
              "        const containerElement = document.querySelector('#' + key);\n",
              "        const charts = await google.colab.kernel.invokeFunction(\n",
              "            'suggestCharts', [key], {});\n",
              "      }\n",
              "    </script>\n",
              "\n",
              "      <script>\n",
              "\n",
              "function displayQuickchartButton(domScope) {\n",
              "  let quickchartButtonEl =\n",
              "    domScope.querySelector('#df-d50148f4-22b4-4189-97ab-5912e9abdac4 button.colab-df-quickchart');\n",
              "  quickchartButtonEl.style.display =\n",
              "    google.colab.kernel.accessAllowed ? 'block' : 'none';\n",
              "}\n",
              "\n",
              "        displayQuickchartButton(document);\n",
              "      </script>\n",
              "      <style>\n",
              "    .colab-df-container {\n",
              "      display:flex;\n",
              "      flex-wrap:wrap;\n",
              "      gap: 12px;\n",
              "    }\n",
              "\n",
              "    .colab-df-convert {\n",
              "      background-color: #E8F0FE;\n",
              "      border: none;\n",
              "      border-radius: 50%;\n",
              "      cursor: pointer;\n",
              "      display: none;\n",
              "      fill: #1967D2;\n",
              "      height: 32px;\n",
              "      padding: 0 0 0 0;\n",
              "      width: 32px;\n",
              "    }\n",
              "\n",
              "    .colab-df-convert:hover {\n",
              "      background-color: #E2EBFA;\n",
              "      box-shadow: 0px 1px 2px rgba(60, 64, 67, 0.3), 0px 1px 3px 1px rgba(60, 64, 67, 0.15);\n",
              "      fill: #174EA6;\n",
              "    }\n",
              "\n",
              "    [theme=dark] .colab-df-convert {\n",
              "      background-color: #3B4455;\n",
              "      fill: #D2E3FC;\n",
              "    }\n",
              "\n",
              "    [theme=dark] .colab-df-convert:hover {\n",
              "      background-color: #434B5C;\n",
              "      box-shadow: 0px 1px 3px 1px rgba(0, 0, 0, 0.15);\n",
              "      filter: drop-shadow(0px 1px 2px rgba(0, 0, 0, 0.3));\n",
              "      fill: #FFFFFF;\n",
              "    }\n",
              "  </style>\n",
              "\n",
              "      <script>\n",
              "        const buttonEl =\n",
              "          document.querySelector('#df-20dcd15f-23a6-4b0c-8ae3-97db2e490e4a button.colab-df-convert');\n",
              "        buttonEl.style.display =\n",
              "          google.colab.kernel.accessAllowed ? 'block' : 'none';\n",
              "\n",
              "        async function convertToInteractive(key) {\n",
              "          const element = document.querySelector('#df-20dcd15f-23a6-4b0c-8ae3-97db2e490e4a');\n",
              "          const dataTable =\n",
              "            await google.colab.kernel.invokeFunction('convertToInteractive',\n",
              "                                                     [key], {});\n",
              "          if (!dataTable) return;\n",
              "\n",
              "          const docLinkHtml = 'Like what you see? Visit the ' +\n",
              "            '<a target=\"_blank\" href=https://colab.research.google.com/notebooks/data_table.ipynb>data table notebook</a>'\n",
              "            + ' to learn more about interactive tables.';\n",
              "          element.innerHTML = '';\n",
              "          dataTable['output_type'] = 'display_data';\n",
              "          await google.colab.output.renderOutput(dataTable, element);\n",
              "          const docLink = document.createElement('div');\n",
              "          docLink.innerHTML = docLinkHtml;\n",
              "          element.appendChild(docLink);\n",
              "        }\n",
              "      </script>\n",
              "    </div>\n",
              "  </div>\n"
            ]
          },
          "metadata": {},
          "execution_count": 6
        }
      ]
    },
    {
      "cell_type": "markdown",
      "source": [
        "# **`Checking and Dropping Duplicated rows :`**"
      ],
      "metadata": {
        "id": "TEm7GhS6Idd9"
      }
    },
    {
      "cell_type": "code",
      "source": [
        "df.duplicated(keep='first').sum()\n"
      ],
      "metadata": {
        "colab": {
          "base_uri": "https://localhost:8080/"
        },
        "id": "JzY5LMmnIc8g",
        "outputId": "40b85ff9-db50-4840-ae31-e13b4b8e3bb4"
      },
      "execution_count": 7,
      "outputs": [
        {
          "output_type": "execute_result",
          "data": {
            "text/plain": [
              "3911"
            ]
          },
          "metadata": {},
          "execution_count": 7
        }
      ]
    },
    {
      "cell_type": "markdown",
      "source": [
        "There are  3911 duplicate rows in the dataset, excluding the first occured duplicate rows. So we need to remove the duplicate rows from the dataset."
      ],
      "metadata": {
        "id": "bYSAPAA8J7eq"
      }
    },
    {
      "cell_type": "code",
      "source": [
        "df=df.drop_duplicates(keep='first')\n",
        "df.count()\n"
      ],
      "metadata": {
        "colab": {
          "base_uri": "https://localhost:8080/"
        },
        "id": "6hNE7lQP5P9y",
        "outputId": "3bde819c-89e7-449d-d06d-a8c2efbd9741"
      },
      "execution_count": 8,
      "outputs": [
        {
          "output_type": "execute_result",
          "data": {
            "text/plain": [
              "popularity        14924\n",
              "duration          14924\n",
              "acousticness      14924\n",
              "danceability      14924\n",
              "energy            14924\n",
              "key               14924\n",
              "liveness          14924\n",
              "loudness          14924\n",
              "speechiness       14924\n",
              "tempo             14924\n",
              "time_signature    14924\n",
              "valence           14924\n",
              "dtype: int64"
            ]
          },
          "metadata": {},
          "execution_count": 8
        }
      ]
    },
    {
      "cell_type": "markdown",
      "source": [
        "# **`Data Visualization and analysis :`**"
      ],
      "metadata": {
        "id": "Su6VqT3ONky8"
      }
    },
    {
      "cell_type": "code",
      "source": [
        "plt.figure(figsize=(12, 5))\n",
        "sns.set(style=\"whitegrid\")\n",
        "corr = df.corr()\n",
        "sns.heatmap(corr,annot=True, cmap=\"YlGnBu\")"
      ],
      "metadata": {
        "colab": {
          "base_uri": "https://localhost:8080/",
          "height": 573
        },
        "id": "ZDmYEZynKt03",
        "outputId": "8d97b5f6-adf6-4699-a7fb-c8577c1e4a92"
      },
      "execution_count": 9,
      "outputs": [
        {
          "output_type": "execute_result",
          "data": {
            "text/plain": [
              "<Axes: >"
            ]
          },
          "metadata": {},
          "execution_count": 9
        },
        {
          "output_type": "display_data",
          "data": {
            "text/plain": [
              "<Figure size 1200x500 with 2 Axes>"
            ],
            "image/png": "[encoded data removed]"
          },
          "metadata": {}
        }
      ]
    },
    {
      "cell_type": "markdown",
      "source": [
        "**Points to be noted :**\n",
        "\n",
        "1) From the visualisation, it is seen that, popularity of the song is mostly correlated with danceabilty and loudness of  the song .\n",
        "\n",
        "2) Loudness and Energy are highly correlated.\n",
        "\n",
        "3)Valence is highly correalted with danceability and energy."
      ],
      "metadata": {
        "id": "uraV6RGPN-sj"
      }
    },
    {
      "cell_type": "markdown",
      "source": [
        "# **`Detecting Outliers :`**"
      ],
      "metadata": {
        "id": "DUj_ylGIYc69"
      }
    },
    {
      "cell_type": "code",
      "source": [
        "plt.figure(figsize=(15, 10))\n",
        "sns.boxplot(data=df)\n",
        "plt.yscale('log')\n",
        "plt.show()"
      ],
      "metadata": {
        "colab": {
          "base_uri": "https://localhost:8080/",
          "height": 762
        },
        "id": "gC5lBmOBGri9",
        "outputId": "d1b01413-5d0a-4c40-9071-3280e7a9bfdc"
      },
      "execution_count": 10,
      "outputs": [
        {
          "output_type": "display_data",
          "data": {
            "text/plain": [
              "<Figure size 1500x1000 with 1 Axes>"
            ],
            "image/png": "[encoded data removed]"
          },
          "metadata": {}
        }
      ]
    },
    {
      "cell_type": "markdown",
      "source": [
        "It is identified that some of the columns have outliers, so we need to remove the outliers."
      ],
      "metadata": {
        "id": "EwyxcSFcZCWG"
      }
    },
    {
      "cell_type": "code",
      "source": [
        "#Removing outliers\n",
        "Q1 =df.quantile(0.25)\n",
        "Q3 = df.quantile(0.75)\n",
        "IQR = Q3 - Q1\n",
        "df = df[~((df < (Q1 - 1.5 * IQR)) |(df> (Q3 + 1.5 * IQR))).any(axis=1)]"
      ],
      "metadata": {
        "id": "LmS2xVvAZP36"
      },
      "execution_count": 11,
      "outputs": []
    },
    {
      "cell_type": "code",
      "source": [
        "df.count()"
      ],
      "metadata": {
        "colab": {
          "base_uri": "https://localhost:8080/"
        },
        "id": "9x5nFltAaxbV",
        "outputId": "97306a55-626b-49d1-a1ee-abf75c8267ef"
      },
      "execution_count": 12,
      "outputs": [
        {
          "output_type": "execute_result",
          "data": {
            "text/plain": [
              "popularity        10651\n",
              "duration          10651\n",
              "acousticness      10651\n",
              "danceability      10651\n",
              "energy            10651\n",
              "key               10651\n",
              "liveness          10651\n",
              "loudness          10651\n",
              "speechiness       10651\n",
              "tempo             10651\n",
              "time_signature    10651\n",
              "valence           10651\n",
              "dtype: int64"
            ]
          },
          "metadata": {},
          "execution_count": 12
        }
      ]
    },
    {
      "cell_type": "markdown",
      "source": [
        "# **`Preprocessing :`**\n",
        "\n",
        "In simple words, preprocessing is like getting the data ready for the machine learning model to understand and learn from. It includes tasks like removing missing values, scaling the data to a common range, encoding categorical variables, and other steps to make the data more manageable and meaningful for the model. By doing this, we help the model perform better and make more accurate predictions."
      ],
      "metadata": {
        "id": "5PSlq4EtigAh"
      }
    },
    {
      "cell_type": "code",
      "source": [
        "df.info()"
      ],
      "metadata": {
        "colab": {
          "base_uri": "https://localhost:8080/"
        },
        "id": "1AKcO6ilimit",
        "outputId": "ce22049d-60b7-4c9a-c370-8778348bf90f"
      },
      "execution_count": 13,
      "outputs": [
        {
          "output_type": "stream",
          "name": "stdout",
          "text": [
            "<class 'pandas.core.frame.DataFrame'>\n",
            "Int64Index: 10651 entries, 0 to 18834\n",
            "Data columns (total 12 columns):\n",
            " #   Column          Non-Null Count  Dtype  \n",
            "---  ------          --------------  -----  \n",
            " 0   popularity      10651 non-null  int64  \n",
            " 1   duration        10651 non-null  int64  \n",
            " 2   acousticness    10651 non-null  float64\n",
            " 3   danceability    10651 non-null  float64\n",
            " 4   energy          10651 non-null  float64\n",
            " 5   key             10651 non-null  int64  \n",
            " 6   liveness        10651 non-null  float64\n",
            " 7   loudness        10651 non-null  float64\n",
            " 8   speechiness     10651 non-null  float64\n",
            " 9   tempo           10651 non-null  float64\n",
            " 10  time_signature  10651 non-null  int64  \n",
            " 11  valence         10651 non-null  float64\n",
            "dtypes: float64(8), int64(4)\n",
            "memory usage: 1.1 MB\n"
          ]
        }
      ]
    },
    {
      "cell_type": "markdown",
      "source": [
        "Here, datatypes all columns are  numeric (float/int), Therefore we  don't need to convert any column into numeric datatype.\n",
        "\n"
      ],
      "metadata": {
        "id": "xTVB17ADi6RF"
      }
    },
    {
      "cell_type": "markdown",
      "source": [
        "# **`Splitting the data into x and y:`**\n",
        "\n",
        "Splitting the data into X and y refers to separating the input features and the target variable from the dataset.\n",
        "\n",
        "'x' represents the input features or independent variables. These are the characteristics or attributes of the data that are used to make predictions.\n",
        "\n",
        "'y' represents the target variable or dependent variable. This is the value we want to predict or classify based on the input features."
      ],
      "metadata": {
        "id": "Vp5MlTj3nHq0"
      }
    },
    {
      "cell_type": "code",
      "source": [
        "x=df.iloc[::,1:]\n",
        "x.head()"
      ],
      "metadata": {
        "colab": {
          "base_uri": "https://localhost:8080/",
          "height": 206
        },
        "id": "OuvolSaildK8",
        "outputId": "c7defc2a-0214-44e2-bed0-c423358721b2"
      },
      "execution_count": 14,
      "outputs": [
        {
          "output_type": "execute_result",
          "data": {
            "text/plain": [
              "   duration  acousticness  danceability  energy  key  liveness  loudness  \\\n",
              "0    262333      0.005520         0.496   0.682    8    0.0589    -4.095   \n",
              "1    216933      0.010300         0.542   0.853    3    0.1080    -6.407   \n",
              "2    231733      0.008170         0.737   0.463    0    0.2550    -7.828   \n",
              "3    216933      0.026400         0.451   0.970    0    0.1020    -4.938   \n",
              "4    223826      0.000954         0.447   0.766   10    0.1130    -5.065   \n",
              "\n",
              "   speechiness    tempo  time_signature  valence  \n",
              "0       0.0294  167.060               4    0.474  \n",
              "1       0.0498  105.256               4    0.370  \n",
              "2       0.0792  123.881               4    0.324  \n",
              "3       0.1070  122.444               4    0.198  \n",
              "4       0.0313  172.011               4    0.574  "
            ],
            "text/html": [
              "\n",
              "\n",
              "  <div id=\"df-ae1c06f1-436d-477d-8dc8-e89bd6a9e71e\">\n",
              "    <div class=\"colab-df-container\">\n",
              "      <div>\n",
              "<style scoped>\n",
              "    .dataframe tbody tr th:only-of-type {\n",
              "        vertical-align: middle;\n",
              "    }\n",
              "\n",
              "    .dataframe tbody tr th {\n",
              "        vertical-align: top;\n",
              "    }\n",
              "\n",
              "    .dataframe thead th {\n",
              "        text-align: right;\n",
              "    }\n",
              "</style>\n",
              "<table border=\"1\" class=\"dataframe\">\n",
              "  <thead>\n",
              "    <tr style=\"text-align: right;\">\n",
              "      <th></th>\n",
              "      <th>duration</th>\n",
              "      <th>acousticness</th>\n",
              "      <th>danceability</th>\n",
              "      <th>energy</th>\n",
              "      <th>key</th>\n",
              "      <th>liveness</th>\n",
              "      <th>loudness</th>\n",
              "      <th>speechiness</th>\n",
              "      <th>tempo</th>\n",
              "      <th>time_signature</th>\n",
              "      <th>valence</th>\n",
              "    </tr>\n",
              "  </thead>\n",
              "  <tbody>\n",
              "    <tr>\n",
              "      <th>0</th>\n",
              "      <td>262333</td>\n",
              "      <td>0.005520</td>\n",
              "      <td>0.496</td>\n",
              "      <td>0.682</td>\n",
              "      <td>8</td>\n",
              "      <td>0.0589</td>\n",
              "      <td>-4.095</td>\n",
              "      <td>0.0294</td>\n",
              "      <td>167.060</td>\n",
              "      <td>4</td>\n",
              "      <td>0.474</td>\n",
              "    </tr>\n",
              "    <tr>\n",
              "      <th>1</th>\n",
              "      <td>216933</td>\n",
              "      <td>0.010300</td>\n",
              "      <td>0.542</td>\n",
              "      <td>0.853</td>\n",
              "      <td>3</td>\n",
              "      <td>0.1080</td>\n",
              "      <td>-6.407</td>\n",
              "      <td>0.0498</td>\n",
              "      <td>105.256</td>\n",
              "      <td>4</td>\n",
              "      <td>0.370</td>\n",
              "    </tr>\n",
              "    <tr>\n",
              "      <th>2</th>\n",
              "      <td>231733</td>\n",
              "      <td>0.008170</td>\n",
              "      <td>0.737</td>\n",
              "      <td>0.463</td>\n",
              "      <td>0</td>\n",
              "      <td>0.2550</td>\n",
              "      <td>-7.828</td>\n",
              "      <td>0.0792</td>\n",
              "      <td>123.881</td>\n",
              "      <td>4</td>\n",
              "      <td>0.324</td>\n",
              "    </tr>\n",
              "    <tr>\n",
              "      <th>3</th>\n",
              "      <td>216933</td>\n",
              "      <td>0.026400</td>\n",
              "      <td>0.451</td>\n",
              "      <td>0.970</td>\n",
              "      <td>0</td>\n",
              "      <td>0.1020</td>\n",
              "      <td>-4.938</td>\n",
              "      <td>0.1070</td>\n",
              "      <td>122.444</td>\n",
              "      <td>4</td>\n",
              "      <td>0.198</td>\n",
              "    </tr>\n",
              "    <tr>\n",
              "      <th>4</th>\n",
              "      <td>223826</td>\n",
              "      <td>0.000954</td>\n",
              "      <td>0.447</td>\n",
              "      <td>0.766</td>\n",
              "      <td>10</td>\n",
              "      <td>0.1130</td>\n",
              "      <td>-5.065</td>\n",
              "      <td>0.0313</td>\n",
              "      <td>172.011</td>\n",
              "      <td>4</td>\n",
              "      <td>0.574</td>\n",
              "    </tr>\n",
              "  </tbody>\n",
              "</table>\n",
              "</div>\n",
              "      <button class=\"colab-df-convert\" onclick=\"convertToInteractive('df-ae1c06f1-436d-477d-8dc8-e89bd6a9e71e')\"\n",
              "              title=\"Convert this dataframe to an interactive table.\"\n",
              "              style=\"display:none;\">\n",
              "\n",
              "  <svg xmlns=\"http://www.w3.org/2000/svg\" height=\"24px\"viewBox=\"0 0 24 24\"\n",
              "       width=\"24px\">\n",
              "    <path d=\"M0 0h24v24H0V0z\" fill=\"none\"/>\n",
              "    <path d=\"M18.56 5.44l.94 2.06.94-2.06 2.06-.94-2.06-.94-.94-2.06-.94 2.06-2.06.94zm-11 1L8.5 8.5l.94-2.06 2.06-.94-2.06-.94L8.5 2.5l-.94 2.06-2.06.94zm10 10l.94 2.06.94-2.06 2.06-.94-2.06-.94-.94-2.06-.94 2.06-2.06.94z\"/><path d=\"M17.41 7.96l-1.37-1.37c-.4-.4-.92-.59-1.43-.59-.52 0-1.04.2-1.43.59L10.3 9.45l-7.72 7.72c-.78.78-.78 2.05 0 2.83L4 21.41c.39.39.9.59 1.41.59.51 0 1.02-.2 1.41-.59l7.78-7.78 2.81-2.81c.8-.78.8-2.07 0-2.86zM5.41 20L4 18.59l7.72-7.72 1.47 1.35L5.41 20z\"/>\n",
              "  </svg>\n",
              "      </button>\n",
              "\n",
              "\n",
              "\n",
              "    <div id=\"df-89e95ec1-007f-4c84-b06e-a6305d3fcfab\">\n",
              "      <button class=\"colab-df-quickchart\" onclick=\"quickchart('df-89e95ec1-007f-4c84-b06e-a6305d3fcfab')\"\n",
              "              title=\"Suggest charts.\"\n",
              "              style=\"display:none;\">\n",
              "\n",
              "<svg xmlns=\"http://www.w3.org/2000/svg\" height=\"24px\"viewBox=\"0 0 24 24\"\n",
              "     width=\"24px\">\n",
              "    <g>\n",
              "        <path d=\"M19 3H5c-1.1 0-2 .9-2 2v14c0 1.1.9 2 2 2h14c1.1 0 2-.9 2-2V5c0-1.1-.9-2-2-2zM9 17H7v-7h2v7zm4 0h-2V7h2v10zm4 0h-2v-4h2v4z\"/>\n",
              "    </g>\n",
              "</svg>\n",
              "      </button>\n",
              "    </div>\n",
              "\n",
              "<style>\n",
              "  .colab-df-quickchart {\n",
              "    background-color: #E8F0FE;\n",
              "    border: none;\n",
              "    border-radius: 50%;\n",
              "    cursor: pointer;\n",
              "    display: none;\n",
              "    fill: #1967D2;\n",
              "    height: 32px;\n",
              "    padding: 0 0 0 0;\n",
              "    width: 32px;\n",
              "  }\n",
              "\n",
              "  .colab-df-quickchart:hover {\n",
              "    background-color: #E2EBFA;\n",
              "    box-shadow: 0px 1px 2px rgba(60, 64, 67, 0.3), 0px 1px 3px 1px rgba(60, 64, 67, 0.15);\n",
              "    fill: #174EA6;\n",
              "  }\n",
              "\n",
              "  [theme=dark] .colab-df-quickchart {\n",
              "    background-color: #3B4455;\n",
              "    fill: #D2E3FC;\n",
              "  }\n",
              "\n",
              "  [theme=dark] .colab-df-quickchart:hover {\n",
              "    background-color: #434B5C;\n",
              "    box-shadow: 0px 1px 3px 1px rgba(0, 0, 0, 0.15);\n",
              "    filter: drop-shadow(0px 1px 2px rgba(0, 0, 0, 0.3));\n",
              "    fill: #FFFFFF;\n",
              "  }\n",
              "</style>\n",
              "\n",
              "    <script>\n",
              "      async function quickchart(key) {\n",
              "        const containerElement = document.querySelector('#' + key);\n",
              "        const charts = await google.colab.kernel.invokeFunction(\n",
              "            'suggestCharts', [key], {});\n",
              "      }\n",
              "    </script>\n",
              "\n",
              "      <script>\n",
              "\n",
              "function displayQuickchartButton(domScope) {\n",
              "  let quickchartButtonEl =\n",
              "    domScope.querySelector('#df-89e95ec1-007f-4c84-b06e-a6305d3fcfab button.colab-df-quickchart');\n",
              "  quickchartButtonEl.style.display =\n",
              "    google.colab.kernel.accessAllowed ? 'block' : 'none';\n",
              "}\n",
              "\n",
              "        displayQuickchartButton(document);\n",
              "      </script>\n",
              "      <style>\n",
              "    .colab-df-container {\n",
              "      display:flex;\n",
              "      flex-wrap:wrap;\n",
              "      gap: 12px;\n",
              "    }\n",
              "\n",
              "    .colab-df-convert {\n",
              "      background-color: #E8F0FE;\n",
              "      border: none;\n",
              "      border-radius: 50%;\n",
              "      cursor: pointer;\n",
              "      display: none;\n",
              "      fill: #1967D2;\n",
              "      height: 32px;\n",
              "      padding: 0 0 0 0;\n",
              "      width: 32px;\n",
              "    }\n",
              "\n",
              "    .colab-df-convert:hover {\n",
              "      background-color: #E2EBFA;\n",
              "      box-shadow: 0px 1px 2px rgba(60, 64, 67, 0.3), 0px 1px 3px 1px rgba(60, 64, 67, 0.15);\n",
              "      fill: #174EA6;\n",
              "    }\n",
              "\n",
              "    [theme=dark] .colab-df-convert {\n",
              "      background-color: #3B4455;\n",
              "      fill: #D2E3FC;\n",
              "    }\n",
              "\n",
              "    [theme=dark] .colab-df-convert:hover {\n",
              "      background-color: #434B5C;\n",
              "      box-shadow: 0px 1px 3px 1px rgba(0, 0, 0, 0.15);\n",
              "      filter: drop-shadow(0px 1px 2px rgba(0, 0, 0, 0.3));\n",
              "      fill: #FFFFFF;\n",
              "    }\n",
              "  </style>\n",
              "\n",
              "      <script>\n",
              "        const buttonEl =\n",
              "          document.querySelector('#df-ae1c06f1-436d-477d-8dc8-e89bd6a9e71e button.colab-df-convert');\n",
              "        buttonEl.style.display =\n",
              "          google.colab.kernel.accessAllowed ? 'block' : 'none';\n",
              "\n",
              "        async function convertToInteractive(key) {\n",
              "          const element = document.querySelector('#df-ae1c06f1-436d-477d-8dc8-e89bd6a9e71e');\n",
              "          const dataTable =\n",
              "            await google.colab.kernel.invokeFunction('convertToInteractive',\n",
              "                                                     [key], {});\n",
              "          if (!dataTable) return;\n",
              "\n",
              "          const docLinkHtml = 'Like what you see? Visit the ' +\n",
              "            '<a target=\"_blank\" href=https://colab.research.google.com/notebooks/data_table.ipynb>data table notebook</a>'\n",
              "            + ' to learn more about interactive tables.';\n",
              "          element.innerHTML = '';\n",
              "          dataTable['output_type'] = 'display_data';\n",
              "          await google.colab.output.renderOutput(dataTable, element);\n",
              "          const docLink = document.createElement('div');\n",
              "          docLink.innerHTML = docLinkHtml;\n",
              "          element.appendChild(docLink);\n",
              "        }\n",
              "      </script>\n",
              "    </div>\n",
              "  </div>\n"
            ]
          },
          "metadata": {},
          "execution_count": 14
        }
      ]
    },
    {
      "cell_type": "markdown",
      "source": [
        "Here, 'Popularity' will be y i.e target, since we want to predict the popularity of the song depending on the other features of the song ,which will be x"
      ],
      "metadata": {
        "id": "H5o284P4n1Wj"
      }
    },
    {
      "cell_type": "code",
      "source": [
        "y=df.iloc[:,0]\n",
        "y"
      ],
      "metadata": {
        "colab": {
          "base_uri": "https://localhost:8080/"
        },
        "id": "ht3zCknsoVcA",
        "outputId": "c4c2c25d-68b9-44d7-cfed-afed6ebb9441"
      },
      "execution_count": 15,
      "outputs": [
        {
          "output_type": "execute_result",
          "data": {
            "text/plain": [
              "0        73\n",
              "1        66\n",
              "2        76\n",
              "3        74\n",
              "4        56\n",
              "         ..\n",
              "18827    55\n",
              "18829    62\n",
              "18831    60\n",
              "18832    23\n",
              "18834    60\n",
              "Name: popularity, Length: 10651, dtype: int64"
            ]
          },
          "metadata": {},
          "execution_count": 15
        }
      ]
    },
    {
      "cell_type": "markdown",
      "source": [
        "# **`Model Training :`**\n",
        "Here, we will be using ' Linear regression'.\n",
        "Since, we use linear regression when we want to predict a continuous numerical value (e.g., predicting house prices, sales revenue) based on input features.\n",
        "It finds a linear relationship between the input features and the target variable.\n",
        "\n",
        "Here, since we don't have much data , we have to give whole x and whole y to train the model."
      ],
      "metadata": {
        "id": "h6DdxPWUpJtx"
      }
    },
    {
      "cell_type": "code",
      "source": [
        "from sklearn.model_selection import train_test_split\n",
        "\n",
        "xtrain,xtest,ytrain,ytest=train_test_split(x,y,test_size=0.3,random_state=1)"
      ],
      "metadata": {
        "id": "-CvjLYXPsF-h"
      },
      "execution_count": 16,
      "outputs": []
    },
    {
      "cell_type": "code",
      "source": [
        "from sklearn.linear_model import LinearRegression\n",
        "model=LinearRegression()\n",
        "model.fit(xtrain,ytrain)"
      ],
      "metadata": {
        "colab": {
          "base_uri": "https://localhost:8080/",
          "height": 74
        },
        "id": "RcFK9AC5pRVh",
        "outputId": "99a68ebf-636c-4dff-f08b-4bf81b807e8b"
      },
      "execution_count": 17,
      "outputs": [
        {
          "output_type": "execute_result",
          "data": {
            "text/plain": [
              "LinearRegression()"
            ],
            "text/html": [
              "<style>#sk-container-id-1 {color: black;background-color: white;}#sk-container-id-1 pre{padding: 0;}#sk-container-id-1 div.sk-toggleable {background-color: white;}#sk-container-id-1 label.sk-toggleable__label {cursor: pointer;display: block;width: 100%;margin-bottom: 0;padding: 0.3em;box-sizing: border-box;text-align: center;}#sk-container-id-1 label.sk-toggleable__label-arrow:before {content: \"▸\";float: left;margin-right: 0.25em;color: #696969;}#sk-container-id-1 label.sk-toggleable__label-arrow:hover:before {color: black;}#sk-container-id-1 div.sk-estimator:hover label.sk-toggleable__label-arrow:before {color: black;}#sk-container-id-1 div.sk-toggleable__content {max-height: 0;max-width: 0;overflow: hidden;text-align: left;background-color: #f0f8ff;}#sk-container-id-1 div.sk-toggleable__content pre {margin: 0.2em;color: black;border-radius: 0.25em;background-color: #f0f8ff;}#sk-container-id-1 input.sk-toggleable__control:checked~div.sk-toggleable__content {max-height: 200px;max-width: 100%;overflow: auto;}#sk-container-id-1 input.sk-toggleable__control:checked~label.sk-toggleable__label-arrow:before {content: \"▾\";}#sk-container-id-1 div.sk-estimator input.sk-toggleable__control:checked~label.sk-toggleable__label {background-color: #d4ebff;}#sk-container-id-1 div.sk-label input.sk-toggleable__control:checked~label.sk-toggleable__label {background-color: #d4ebff;}#sk-container-id-1 input.sk-hidden--visually {border: 0;clip: rect(1px 1px 1px 1px);clip: rect(1px, 1px, 1px, 1px);height: 1px;margin: -1px;overflow: hidden;padding: 0;position: absolute;width: 1px;}#sk-container-id-1 div.sk-estimator {font-family: monospace;background-color: #f0f8ff;border: 1px dotted black;border-radius: 0.25em;box-sizing: border-box;margin-bottom: 0.5em;}#sk-container-id-1 div.sk-estimator:hover {background-color: #d4ebff;}#sk-container-id-1 div.sk-parallel-item::after {content: \"\";width: 100%;border-bottom: 1px solid gray;flex-grow: 1;}#sk-container-id-1 div.sk-label:hover label.sk-toggleable__label {background-color: #d4ebff;}#sk-container-id-1 div.sk-serial::before {content: \"\";position: absolute;border-left: 1px solid gray;box-sizing: border-box;top: 0;bottom: 0;left: 50%;z-index: 0;}#sk-container-id-1 div.sk-serial {display: flex;flex-direction: column;align-items: center;background-color: white;padding-right: 0.2em;padding-left: 0.2em;position: relative;}#sk-container-id-1 div.sk-item {position: relative;z-index: 1;}#sk-container-id-1 div.sk-parallel {display: flex;align-items: stretch;justify-content: center;background-color: white;position: relative;}#sk-container-id-1 div.sk-item::before, #sk-container-id-1 div.sk-parallel-item::before {content: \"\";position: absolute;border-left: 1px solid gray;box-sizing: border-box;top: 0;bottom: 0;left: 50%;z-index: -1;}#sk-container-id-1 div.sk-parallel-item {display: flex;flex-direction: column;z-index: 1;position: relative;background-color: white;}#sk-container-id-1 div.sk-parallel-item:first-child::after {align-self: flex-end;width: 50%;}#sk-container-id-1 div.sk-parallel-item:last-child::after {align-self: flex-start;width: 50%;}#sk-container-id-1 div.sk-parallel-item:only-child::after {width: 0;}#sk-container-id-1 div.sk-dashed-wrapped {border: 1px dashed gray;margin: 0 0.4em 0.5em 0.4em;box-sizing: border-box;padding-bottom: 0.4em;background-color: white;}#sk-container-id-1 div.sk-label label {font-family: monospace;font-weight: bold;display: inline-block;line-height: 1.2em;}#sk-container-id-1 div.sk-label-container {text-align: center;}#sk-container-id-1 div.sk-container {/* jupyter's `normalize.less` sets `[hidden] { display: none; }` but bootstrap.min.css set `[hidden] { display: none !important; }` so we also need the `!important` here to be able to override the default hidden behavior on the sphinx rendered scikit-learn.org. See: https://github.com/scikit-learn/scikit-learn/issues/21755 */display: inline-block !important;position: relative;}#sk-container-id-1 div.sk-text-repr-fallback {display: none;}</style><div id=\"sk-container-id-1\" class=\"sk-top-container\"><div class=\"sk-text-repr-fallback\"><pre>LinearRegression()</pre><b>In a Jupyter environment, please rerun this cell to show the HTML representation or trust the notebook. <br />On GitHub, the HTML representation is unable to render, please try loading this page with nbviewer.org.</b></div><div class=\"sk-container\" hidden><div class=\"sk-item\"><div class=\"sk-estimator sk-toggleable\"><input class=\"sk-toggleable__control sk-hidden--visually\" id=\"sk-estimator-id-1\" type=\"checkbox\" checked><label for=\"sk-estimator-id-1\" class=\"sk-toggleable__label sk-toggleable__label-arrow\">LinearRegression</label><div class=\"sk-toggleable__content\"><pre>LinearRegression()</pre></div></div></div></div></div>"
            ]
          },
          "metadata": {},
          "execution_count": 17
        }
      ]
    },
    {
      "cell_type": "code",
      "source": [
        "ypred=model.predict(xtest) #testing of model\n",
        "ypred"
      ],
      "metadata": {
        "colab": {
          "base_uri": "https://localhost:8080/"
        },
        "id": "8B_QQw2yrSuZ",
        "outputId": "2735496e-462e-479c-9b7f-446387d70f5b"
      },
      "execution_count": 18,
      "outputs": [
        {
          "output_type": "execute_result",
          "data": {
            "text/plain": [
              "array([49.00295949, 46.06855765, 53.83224803, ..., 53.68985742,\n",
              "       44.76186357, 48.00607003])"
            ]
          },
          "metadata": {},
          "execution_count": 18
        }
      ]
    },
    {
      "cell_type": "code",
      "source": [
        "from sklearn.metrics import r2_score,mean_absolute_error,mean_squared_error\n",
        "# from sklearn.metrics import classification_report,confusion_matrix"
      ],
      "metadata": {
        "id": "O1nLCLnprme-"
      },
      "execution_count": 19,
      "outputs": []
    },
    {
      "cell_type": "code",
      "source": [
        "r2_score(ytest,ypred)"
      ],
      "metadata": {
        "colab": {
          "base_uri": "https://localhost:8080/"
        },
        "id": "PRsM5Xxnrx-f",
        "outputId": "71334767-ca3f-42bb-c2ef-392d33c0cb36"
      },
      "execution_count": 20,
      "outputs": [
        {
          "output_type": "execute_result",
          "data": {
            "text/plain": [
              "0.017788064519834834"
            ]
          },
          "metadata": {},
          "execution_count": 20
        }
      ]
    },
    {
      "cell_type": "code",
      "source": [
        "mean_absolute_error(ytest,ypred)"
      ],
      "metadata": {
        "colab": {
          "base_uri": "https://localhost:8080/"
        },
        "id": "pk5aigQ3q_2m",
        "outputId": "197300a5-bb89-49c1-c496-63dc1a08f181"
      },
      "execution_count": 21,
      "outputs": [
        {
          "output_type": "execute_result",
          "data": {
            "text/plain": [
              "16.208031710292644"
            ]
          },
          "metadata": {},
          "execution_count": 21
        }
      ]
    },
    {
      "cell_type": "code",
      "source": [
        "mean_squared_error(ytest,ypred)\n"
      ],
      "metadata": {
        "colab": {
          "base_uri": "https://localhost:8080/"
        },
        "id": "sLDS7VhhrGKE",
        "outputId": "61e9fdf1-3c8d-4219-c31a-c2583ee872e7"
      },
      "execution_count": 22,
      "outputs": [
        {
          "output_type": "execute_result",
          "data": {
            "text/plain": [
              "420.4888953266174"
            ]
          },
          "metadata": {},
          "execution_count": 22
        }
      ]
    },
    {
      "cell_type": "markdown",
      "source": [
        "# **`New Precdiction :`**"
      ],
      "metadata": {
        "id": "HanjajYTjdY0"
      }
    },
    {
      "cell_type": "code",
      "source": [
        "def new_prediction():\n",
        "  dr=float(input('Enter duration of the song : '))\n",
        "  ac=float(input('Enter acousticness of the song : '))\n",
        "  dn=float(input('Enter danceability of the song : '))\n",
        "  en=float(input('Enter energy of the song : '))\n",
        "  key=float(input('Enter the key of the song : '))\n",
        "  lv=float(input('Enter the liveness of the song : '))\n",
        "  ld=float(input('Enter the loudness of the song : '))\n",
        "  sness=float(input('Enter the speechiness of the song : '))\n",
        "  tm=float(input('Enter the tempo : '))\n",
        "  ts=float(input('Enter the time signature : '))\n",
        "  vl=float(input('Enter the valence : '))\n",
        "  return([[dr,ac,dn,en,key,lv,ld,sness,tm,ts,vl]])\n"
      ],
      "metadata": {
        "id": "UAFkiucOvMat"
      },
      "execution_count": 24,
      "outputs": []
    },
    {
      "cell_type": "code",
      "source": [
        "pop_song=model.predict(new_prediction())\n",
        "print(f'Popularity of the song : {pop_song}')\n"
      ],
      "metadata": {
        "colab": {
          "base_uri": "https://localhost:8080/"
        },
        "id": "KWfoJMspyCAh",
        "outputId": "0bfa6ca2-83b9-48c4-f386-9fe65224b890"
      },
      "execution_count": 25,
      "outputs": [
        {
          "output_type": "stream",
          "name": "stdout",
          "text": [
            "Enter duration of the song : 262333\n",
            "Enter acousticness of the song : 0.005520\n",
            "Enter danceability of the song : 0.496\n",
            "Enter energy of the song : 0.682\n",
            "Enter the key of the song : 8\n",
            "Enter the liveness of the song : 0.0586\n",
            "Enter the loudness of the song : -4.095\n",
            "Enter the speechiness of the song : 0.0294\n",
            "Enter the tempo : 167.060\n",
            "Enter the time signature : 4\n",
            "Enter the valence : 0.474\n",
            "Popularity of the song : [52.82724955]\n"
          ]
        },
        {
          "output_type": "stream",
          "name": "stderr",
          "text": [
            "/usr/local/lib/python3.10/dist-packages/sklearn/base.py:439: UserWarning: X does not have valid feature names, but LinearRegression was fitted with feature names\n",
            "  warnings.warn(\n"
          ]
        }
      ]
    },
    {
      "cell_type": "markdown",
      "source": [
        "# **`Conclusion :`**"
      ],
      "metadata": {
        "id": "fhfaor2zkmoK"
      }
    },
    {
      "cell_type": "markdown",
      "source": [
        "\n",
        "In conclusion, the Song Popularity Prediction project aimed to explore the factors influencing song popularity and develop a predictive model to forecast a song's potential success. Through the process of Exploratory Data Analysis (EDA), we examined various features such as duration, loudeness, danceabilty, etc. to understand their impact on song popularity.\n",
        "\n",
        "In summary, this project not only provided valuable insights into the dynamics of song popularity but also demonstrated the potential of machine learning in predicting the commercial success of songs.\n"
      ],
      "metadata": {
        "id": "KF0uKxeIktLw"
      }
    }
  ]
}